{
 "cells": [
  {
   "cell_type": "code",
   "execution_count": 2,
   "metadata": {},
   "outputs": [
    {
     "name": "stderr",
     "output_type": "stream",
     "text": [
      "Using TensorFlow backend.\n"
     ]
    }
   ],
   "source": [
    "import os, cv2, random\n",
    "import numpy as np\n",
    "import pandas as pd\n",
    "\n",
    "import matplotlib.pyplot as plt\n",
    "from matplotlib import ticker\n",
    "import seaborn as sns\n",
    "%matplotlib inline \n",
    "from keras.models import Model\n",
    "from keras.models import Sequential\n",
    "from keras.models import load_model \n",
    "from keras.layers import Input, Dropout, Flatten, Convolution2D, MaxPooling2D, Dense, Activation, ZeroPadding2D, Conv2D\n",
    "from keras.optimizers import RMSprop\n",
    "from keras.callbacks import ModelCheckpoint, Callback, EarlyStopping\n",
    "from keras.utils import np_utils\n",
    "\n",
    "from keras.applications.vgg16 import VGG16  \n",
    "from keras.preprocessing import image  \n",
    "from keras.applications.vgg16 import preprocess_input  \n",
    "from keras.preprocessing.image import ImageDataGenerator  \n",
    "import numpy as np \n",
    "\n",
    "from keras import backend as K  \n",
    "import h5py \n",
    "\n",
    "import glob  \n",
    "from PIL import Image\n",
    "\n",
    "from sklearn.metrics import classification_report\n",
    "from sklearn.metrics import confusion_matrix\n",
    "\n",
    "from pandas_ml import ConfusionMatrix\n",
    "\n",
    "from pyimagesearch.preprocessing import ImageToArrayPreprocessor\n",
    "from pyimagesearch.preprocessing import AspectAwarePreprocessor\n",
    "from pyimagesearch.datasets import SimpleDatasetLoader\n",
    "from pyimagesearch.nn.conv import FCHeadNet"
   ]
  },
  {
   "cell_type": "code",
   "execution_count": 4,
   "metadata": {},
   "outputs": [],
   "source": [
    "def lenet_5(input_shape=(200,300,3),classes=10):\n",
    "    X_input=Input(input_shape)\n",
    "    X=ZeroPadding2D((1,1))(X_input)\n",
    "    X=Conv2D(6,(5,5),strides=(1,1),padding='valid',name='conv1')(X)\n",
    "    X=Activation('tanh')(X)\n",
    "    X=MaxPooling2D((2,2),strides=(2,2))(X)\n",
    "    X=Conv2D(6,(5,5),strides=(1,1),padding='valid',name='conv2')(X)\n",
    "    X=Activation('tanh')(X)\n",
    "    X=MaxPooling2D((2,2),strides=(2,2))(X)\n",
    "    X=Flatten()(X)\n",
    "    X=Dense(64,activation='tanh',name='fc1')(X)\n",
    "    X=Dense(64,activation='tanh',name='fc2')(X)\n",
    "    X=Dense(10,activation='softmax')(X)\n",
    "    model=Model(inputs=X_input,outputs=X,name='lenet_5')\n",
    "    return model"
   ]
  },
  {
   "cell_type": "code",
   "execution_count": 5,
   "metadata": {},
   "outputs": [],
   "source": [
    "model=lenet_5(input_shape=(200,300,3),classes=10)\n",
    "model.compile(optimizer='adam',loss='categorical_crossentropy',metrics=['accuracy'])"
   ]
  },
  {
   "cell_type": "code",
   "execution_count": 6,
   "metadata": {},
   "outputs": [
    {
     "name": "stdout",
     "output_type": "stream",
     "text": [
      "_________________________________________________________________\n",
      "Layer (type)                 Output Shape              Param #   \n",
      "=================================================================\n",
      "input_1 (InputLayer)         (None, 200, 300, 3)       0         \n",
      "_________________________________________________________________\n",
      "zero_padding2d_1 (ZeroPaddin (None, 202, 302, 3)       0         \n",
      "_________________________________________________________________\n",
      "conv1 (Conv2D)               (None, 198, 298, 6)       456       \n",
      "_________________________________________________________________\n",
      "activation_1 (Activation)    (None, 198, 298, 6)       0         \n",
      "_________________________________________________________________\n",
      "max_pooling2d_1 (MaxPooling2 (None, 99, 149, 6)        0         \n",
      "_________________________________________________________________\n",
      "conv2 (Conv2D)               (None, 95, 145, 6)        906       \n",
      "_________________________________________________________________\n",
      "activation_2 (Activation)    (None, 95, 145, 6)        0         \n",
      "_________________________________________________________________\n",
      "max_pooling2d_2 (MaxPooling2 (None, 47, 72, 6)         0         \n",
      "_________________________________________________________________\n",
      "flatten_1 (Flatten)          (None, 20304)             0         \n",
      "_________________________________________________________________\n",
      "fc1 (Dense)                  (None, 64)                1299520   \n",
      "_________________________________________________________________\n",
      "fc2 (Dense)                  (None, 64)                4160      \n",
      "_________________________________________________________________\n",
      "dense_1 (Dense)              (None, 10)                650       \n",
      "=================================================================\n",
      "Total params: 1,305,692\n",
      "Trainable params: 1,305,692\n",
      "Non-trainable params: 0\n",
      "_________________________________________________________________\n"
     ]
    }
   ],
   "source": [
    "model.summary()"
   ]
  },
  {
   "cell_type": "code",
   "execution_count": 43,
   "metadata": {
    "scrolled": true
   },
   "outputs": [],
   "source": [
    "model_vgg16_conv = VGG16(weights='imagenet', include_top=False)\n",
    "#model_vgg16_conv.summary()"
   ]
  },
  {
   "cell_type": "code",
   "execution_count": 44,
   "metadata": {},
   "outputs": [
    {
     "name": "stdout",
     "output_type": "stream",
     "text": [
      "Tensor(\"input_3:0\", shape=(?, 200, 300, 3), dtype=float32)\n"
     ]
    }
   ],
   "source": [
    "ROWS = 200\n",
    "COLS = 300\n",
    "\n",
    "my_input = Input(shape=(7947, 200, 300, 3), name = 'image_input')\n",
    "\n",
    "if K.image_data_format() == \"channels_first\":\n",
    "    input_shape = (3, ROWS, COLS)\n",
    "else:\n",
    "    input_shape = (ROWS, COLS, 3)\n",
    "\n",
    "input_crop = Input(shape=input_shape)\n",
    "print(input_crop)"
   ]
  },
  {
   "cell_type": "code",
   "execution_count": 45,
   "metadata": {},
   "outputs": [],
   "source": [
    "output_vgg16_conv = model_vgg16_conv(input_crop)"
   ]
  },
  {
   "cell_type": "code",
   "execution_count": 46,
   "metadata": {},
   "outputs": [],
   "source": [
    "x = Flatten(name='flatten')(output_vgg16_conv)\n",
    "x = Dense(512, activation='relu', name='fc1')(x)\n",
    "x = Dense(256, activation='relu', name='fc2')(x)\n",
    "x = Dense(128, activation='relu', name='fc3')(x)\n",
    "x = Dense(2, activation='softmax', name='predictions')(x)\n",
    "#sigmoid softmax\n",
    "optimizer = 'adam'\n",
    "#optimizer = RMSprop(lr=1e-4)\n",
    "#optimizer = 'sgd'\n",
    "#objective = 'categorical_crossentropy'\n",
    "#objective = 'sparse_categorical_crossentropy'\n",
    "objective = 'binary_crossentropy'"
   ]
  },
  {
   "cell_type": "code",
   "execution_count": 47,
   "metadata": {
    "scrolled": false
   },
   "outputs": [
    {
     "name": "stdout",
     "output_type": "stream",
     "text": [
      "_________________________________________________________________\n",
      "Layer (type)                 Output Shape              Param #   \n",
      "=================================================================\n",
      "input_3 (InputLayer)         (None, 200, 300, 3)       0         \n",
      "_________________________________________________________________\n",
      "vgg16 (Model)                multiple                  14714688  \n",
      "_________________________________________________________________\n",
      "flatten (Flatten)            (None, 27648)             0         \n",
      "_________________________________________________________________\n",
      "fc1 (Dense)                  (None, 512)               14156288  \n",
      "_________________________________________________________________\n",
      "fc2 (Dense)                  (None, 256)               131328    \n",
      "_________________________________________________________________\n",
      "fc3 (Dense)                  (None, 128)               32896     \n",
      "_________________________________________________________________\n",
      "predictions (Dense)          (None, 2)                 258       \n",
      "=================================================================\n",
      "Total params: 29,035,458\n",
      "Trainable params: 29,035,458\n",
      "Non-trainable params: 0\n",
      "_________________________________________________________________\n"
     ]
    },
    {
     "name": "stderr",
     "output_type": "stream",
     "text": [
      "/home/tku/anaconda3/envs/py35/lib/python3.5/site-packages/ipykernel/__main__.py:1: UserWarning: Update your `Model` call to the Keras 2 API: `Model(outputs=Tensor(\"pr..., inputs=Tensor(\"in...)`\n",
      "  if __name__ == '__main__':\n"
     ]
    }
   ],
   "source": [
    "my_model = Model(input=input_crop, output=x)\n",
    "my_model.summary()"
   ]
  },
  {
   "cell_type": "code",
   "execution_count": 48,
   "metadata": {},
   "outputs": [],
   "source": [
    "my_model.compile(loss=objective, optimizer=optimizer, metrics=['accuracy'])"
   ]
  },
  {
   "cell_type": "code",
   "execution_count": 49,
   "metadata": {},
   "outputs": [],
   "source": [
    "baseModel = VGG16(weights=\"imagenet\", include_top=False,\n",
    "\tinput_tensor=Input(shape=(200, 300, 3)))"
   ]
  },
  {
   "cell_type": "code",
   "execution_count": 50,
   "metadata": {},
   "outputs": [],
   "source": [
    "headModel = FCHeadNet.build(baseModel, 2, 512)"
   ]
  },
  {
   "cell_type": "code",
   "execution_count": 51,
   "metadata": {},
   "outputs": [],
   "source": [
    "model = Model(inputs=baseModel.input, outputs=headModel)"
   ]
  },
  {
   "cell_type": "code",
   "execution_count": 52,
   "metadata": {},
   "outputs": [],
   "source": [
    "for layer in baseModel.layers:\n",
    "\tlayer.trainable = False"
   ]
  },
  {
   "cell_type": "code",
   "execution_count": 53,
   "metadata": {},
   "outputs": [
    {
     "name": "stdout",
     "output_type": "stream",
     "text": [
      "_________________________________________________________________\n",
      "Layer (type)                 Output Shape              Param #   \n",
      "=================================================================\n",
      "input_4 (InputLayer)         (None, 200, 300, 3)       0         \n",
      "_________________________________________________________________\n",
      "block1_conv1 (Conv2D)        (None, 200, 300, 64)      1792      \n",
      "_________________________________________________________________\n",
      "block1_conv2 (Conv2D)        (None, 200, 300, 64)      36928     \n",
      "_________________________________________________________________\n",
      "block1_pool (MaxPooling2D)   (None, 100, 150, 64)      0         \n",
      "_________________________________________________________________\n",
      "block2_conv1 (Conv2D)        (None, 100, 150, 128)     73856     \n",
      "_________________________________________________________________\n",
      "block2_conv2 (Conv2D)        (None, 100, 150, 128)     147584    \n",
      "_________________________________________________________________\n",
      "block2_pool (MaxPooling2D)   (None, 50, 75, 128)       0         \n",
      "_________________________________________________________________\n",
      "block3_conv1 (Conv2D)        (None, 50, 75, 256)       295168    \n",
      "_________________________________________________________________\n",
      "block3_conv2 (Conv2D)        (None, 50, 75, 256)       590080    \n",
      "_________________________________________________________________\n",
      "block3_conv3 (Conv2D)        (None, 50, 75, 256)       590080    \n",
      "_________________________________________________________________\n",
      "block3_pool (MaxPooling2D)   (None, 25, 37, 256)       0         \n",
      "_________________________________________________________________\n",
      "block4_conv1 (Conv2D)        (None, 25, 37, 512)       1180160   \n",
      "_________________________________________________________________\n",
      "block4_conv2 (Conv2D)        (None, 25, 37, 512)       2359808   \n",
      "_________________________________________________________________\n",
      "block4_conv3 (Conv2D)        (None, 25, 37, 512)       2359808   \n",
      "_________________________________________________________________\n",
      "block4_pool (MaxPooling2D)   (None, 12, 18, 512)       0         \n",
      "_________________________________________________________________\n",
      "block5_conv1 (Conv2D)        (None, 12, 18, 512)       2359808   \n",
      "_________________________________________________________________\n",
      "block5_conv2 (Conv2D)        (None, 12, 18, 512)       2359808   \n",
      "_________________________________________________________________\n",
      "block5_conv3 (Conv2D)        (None, 12, 18, 512)       2359808   \n",
      "_________________________________________________________________\n",
      "block5_pool (MaxPooling2D)   (None, 6, 9, 512)         0         \n",
      "_________________________________________________________________\n",
      "flatten (Flatten)            (None, 27648)             0         \n",
      "_________________________________________________________________\n",
      "dense_2 (Dense)              (None, 512)               14156288  \n",
      "_________________________________________________________________\n",
      "dropout_1 (Dropout)          (None, 512)               0         \n",
      "_________________________________________________________________\n",
      "dense_3 (Dense)              (None, 256)               131328    \n",
      "_________________________________________________________________\n",
      "dropout_2 (Dropout)          (None, 256)               0         \n",
      "_________________________________________________________________\n",
      "dense_4 (Dense)              (None, 2)                 514       \n",
      "=================================================================\n",
      "Total params: 29,002,818\n",
      "Trainable params: 14,288,130\n",
      "Non-trainable params: 14,714,688\n",
      "_________________________________________________________________\n"
     ]
    }
   ],
   "source": [
    "model.summary()"
   ]
  },
  {
   "cell_type": "code",
   "execution_count": 13,
   "metadata": {},
   "outputs": [],
   "source": [
    "#sigmoid softmax\n",
    "optimizer = 'adam'\n",
    "#optimizer = RMSprop(lr=1e-4)\n",
    "#optimizer = 'sgd'\n",
    "objective = 'categorical_crossentropy'\n",
    "#objective = 'sparse_categorical_crossentropy'\n",
    "#objective = 'binary_crossentropy'\n",
    "\n",
    "model.compile(loss=objective, optimizer=optimizer, metrics=['accuracy'])"
   ]
  },
  {
   "cell_type": "code",
   "execution_count": 8,
   "metadata": {},
   "outputs": [
    {
     "name": "stdout",
     "output_type": "stream",
     "text": [
      "Found 7947 images belonging to 10 classes.\n"
     ]
    }
   ],
   "source": [
    "train_datagen = ImageDataGenerator(\n",
    "    rotation_range=30,\n",
    "    width_shift_range=0.1,\n",
    "    height_shift_range=0,\n",
    "    shear_range=0.2,\n",
    "    zoom_range=0.2,\n",
    "    horizontal_flip=False,\n",
    "    rescale= 1/255)\n",
    "\n",
    "train_generator = train_datagen.flow_from_directory(\n",
    "        'one_movie_one_poster/train/',\n",
    "        target_size=(200, 300),  #可以在此指定要rescale的尺寸\n",
    "        batch_size=80)"
   ]
  },
  {
   "cell_type": "code",
   "execution_count": 9,
   "metadata": {},
   "outputs": [
    {
     "name": "stdout",
     "output_type": "stream",
     "text": [
      "Found 1291 images belonging to 10 classes.\n"
     ]
    }
   ],
   "source": [
    "test_datagen = ImageDataGenerator(rescale=1./255)\n",
    "\n",
    "validation_generator = test_datagen.flow_from_directory(\n",
    "        'one_movie_one_poster/validaiton/',\n",
    "        target_size=(200, 300),  #可以在此指定要rescale的尺寸\n",
    "        batch_size=80)"
   ]
  },
  {
   "cell_type": "code",
   "execution_count": 10,
   "metadata": {},
   "outputs": [
    {
     "name": "stdout",
     "output_type": "stream",
     "text": [
      "Found 2091 images belonging to 10 classes.\n"
     ]
    }
   ],
   "source": [
    "#test_datagen = ImageDataGenerator(rescale=1./255)\n",
    "\n",
    "test_generator = test_datagen.flow_from_directory(\n",
    "        'one_movie_one_poster/test/',\n",
    "        target_size=(200, 300),  #可以在此指定要rescale的尺寸\n",
    "        batch_size=80)"
   ]
  },
  {
   "cell_type": "code",
   "execution_count": 11,
   "metadata": {},
   "outputs": [],
   "source": [
    "nb_train_samples = 7947\n",
    "nb_validation_samples = 1291\n",
    "nb_test_samples = 2091"
   ]
  },
  {
   "cell_type": "code",
   "execution_count": 14,
   "metadata": {
    "scrolled": false
   },
   "outputs": [
    {
     "name": "stdout",
     "output_type": "stream",
     "text": [
      "Epoch 1/30\n",
      "32/32 [==============================] - 201s - loss: 2.4546 - acc: 0.0879 - val_loss: 2.3254 - val_acc: 0.0980\n",
      "Epoch 2/30\n",
      "32/32 [==============================] - 140s - loss: 2.3120 - acc: 0.0992 - val_loss: 2.3147 - val_acc: 0.1061\n",
      "Epoch 3/30\n",
      "32/32 [==============================] - 140s - loss: 2.3133 - acc: 0.0988 - val_loss: 2.3122 - val_acc: 0.1020\n",
      "Epoch 4/30\n",
      "32/32 [==============================] - 125s - loss: 2.3104 - acc: 0.0937 - val_loss: 2.3070 - val_acc: 0.0995\n",
      "Epoch 5/30\n",
      "32/32 [==============================] - 125s - loss: 2.3094 - acc: 0.1016 - val_loss: 2.3091 - val_acc: 0.1032\n",
      "Epoch 6/30\n",
      "32/32 [==============================] - 127s - loss: 2.3129 - acc: 0.1004 - val_loss: 2.3051 - val_acc: 0.1053\n",
      "Epoch 7/30\n",
      "32/32 [==============================] - 128s - loss: 2.3092 - acc: 0.1030 - val_loss: 2.3150 - val_acc: 0.0999\n",
      "Epoch 8/30\n",
      "32/32 [==============================] - 124s - loss: 2.3092 - acc: 0.0973 - val_loss: 2.3126 - val_acc: 0.1032\n",
      "Epoch 9/30\n",
      "32/32 [==============================] - 125s - loss: 2.3158 - acc: 0.0957 - val_loss: 2.3149 - val_acc: 0.0991\n",
      "Epoch 10/30\n",
      "32/32 [==============================] - 126s - loss: 2.3132 - acc: 0.1039 - val_loss: 2.3104 - val_acc: 0.1024\n",
      "Epoch 11/30\n",
      "32/32 [==============================] - 125s - loss: 2.3127 - acc: 0.0941 - val_loss: 2.3080 - val_acc: 0.1007\n",
      "Epoch 12/30\n",
      "32/32 [==============================] - 124s - loss: 2.3126 - acc: 0.1004 - val_loss: 2.3120 - val_acc: 0.1140\n",
      "Epoch 13/30\n",
      "32/32 [==============================] - 121s - loss: 2.3135 - acc: 0.1030 - val_loss: 2.3107 - val_acc: 0.1036\n",
      "Epoch 14/30\n",
      "32/32 [==============================] - 125s - loss: 2.3108 - acc: 0.0953 - val_loss: 2.3044 - val_acc: 0.1073\n",
      "Epoch 15/30\n",
      "32/32 [==============================] - 125s - loss: 2.3107 - acc: 0.0891 - val_loss: 2.3113 - val_acc: 0.0995\n",
      "Epoch 16/30\n",
      "32/32 [==============================] - 122s - loss: 2.3127 - acc: 0.0871 - val_loss: 2.3076 - val_acc: 0.0995\n",
      "Epoch 17/30\n",
      "32/32 [==============================] - 126s - loss: 2.3136 - acc: 0.1129 - val_loss: 2.3218 - val_acc: 0.1012\n",
      "Epoch 18/30\n",
      "32/32 [==============================] - 126s - loss: 2.3169 - acc: 0.0961 - val_loss: 2.3205 - val_acc: 0.1016\n",
      "Epoch 19/30\n",
      "32/32 [==============================] - 122s - loss: 2.3134 - acc: 0.0973 - val_loss: 2.3065 - val_acc: 0.0983\n",
      "Epoch 20/30\n",
      "32/32 [==============================] - 126s - loss: 2.3084 - acc: 0.1059 - val_loss: 2.3076 - val_acc: 0.0991\n",
      "Epoch 21/30\n",
      "32/32 [==============================] - 124s - loss: 2.3110 - acc: 0.0945 - val_loss: 2.3069 - val_acc: 0.0966\n",
      "Epoch 22/30\n",
      "32/32 [==============================] - 123s - loss: 2.3146 - acc: 0.0996 - val_loss: 2.3055 - val_acc: 0.0987\n",
      "Epoch 23/30\n",
      "32/32 [==============================] - 124s - loss: 2.3091 - acc: 0.0910 - val_loss: 2.3079 - val_acc: 0.0991\n",
      "Epoch 24/30\n",
      "32/32 [==============================] - 125s - loss: 2.3129 - acc: 0.0949 - val_loss: 2.3073 - val_acc: 0.1032\n",
      "Epoch 25/30\n",
      "32/32 [==============================] - 122s - loss: 2.3111 - acc: 0.1085 - val_loss: 2.3109 - val_acc: 0.0991\n",
      "Epoch 26/30\n",
      "32/32 [==============================] - 126s - loss: 2.3111 - acc: 0.0977 - val_loss: 2.3084 - val_acc: 0.0950\n",
      "Epoch 27/30\n",
      "32/32 [==============================] - 126s - loss: 2.3079 - acc: 0.1059 - val_loss: 2.3092 - val_acc: 0.0974\n",
      "Epoch 28/30\n",
      "32/32 [==============================] - 124s - loss: 2.3088 - acc: 0.1109 - val_loss: 2.3086 - val_acc: 0.1086\n",
      "Epoch 29/30\n",
      "32/32 [==============================] - 124s - loss: 2.3099 - acc: 0.1046 - val_loss: 2.3086 - val_acc: 0.0995\n",
      "Epoch 30/30\n",
      "32/32 [==============================] - 126s - loss: 2.3097 - acc: 0.0973 - val_loss: 2.3061 - val_acc: 0.1003\n"
     ]
    }
   ],
   "source": [
    "train_history = model.fit_generator(\n",
    "                train_generator,\n",
    "                steps_per_epoch=32,\n",
    "                epochs=30,\n",
    "                validation_data=validation_generator,\n",
    "                validation_steps=32)"
   ]
  },
  {
   "cell_type": "code",
   "execution_count": 15,
   "metadata": {
    "scrolled": false
   },
   "outputs": [],
   "source": [
    "def show_train_history(history, train, validation):\n",
    "    plt.plot(history.history[train])\n",
    "    plt.plot(history.history[validation])\n",
    "    plt.title('Train History')\n",
    "    plt.ylabel(train)\n",
    "    plt.xlabel('Epoch')\n",
    "    plt.legend(['train', 'validation'], loc='upper left')\n",
    "    plt.show()"
   ]
  },
  {
   "cell_type": "code",
   "execution_count": 16,
   "metadata": {},
   "outputs": [
    {
     "data": {
      "image/png": "[encoded data removed]",
      "text/plain": [
       "<Figure size 432x288 with 1 Axes>"
      ]
     },
     "metadata": {},
     "output_type": "display_data"
    }
   ],
   "source": [
    "show_train_history(train_history, 'acc', 'val_acc')"
   ]
  },
  {
   "cell_type": "code",
   "execution_count": 17,
   "metadata": {
    "scrolled": false
   },
   "outputs": [
    {
     "data": {
      "image/png": "[encoded data removed]",
      "text/plain": [
       "<Figure size 432x288 with 1 Axes>"
      ]
     },
     "metadata": {},
     "output_type": "display_data"
    }
   ],
   "source": [
    "show_train_history(train_history, 'loss', 'val_loss')"
   ]
  },
  {
   "cell_type": "code",
   "execution_count": 18,
   "metadata": {},
   "outputs": [
    {
     "data": {
      "text/plain": [
       "[2.305611571303285, 0.10760401725940075]"
      ]
     },
     "execution_count": 18,
     "metadata": {},
     "output_type": "execute_result"
    }
   ],
   "source": [
    "batch_size = 80\n",
    "score_test = model.evaluate_generator(test_generator, nb_test_samples/batch_size, workers=12)\n",
    "score_test"
   ]
  },
  {
   "cell_type": "code",
   "execution_count": 19,
   "metadata": {},
   "outputs": [
    {
     "name": "stdout",
     "output_type": "stream",
     "text": [
      "27/26 [==============================] - 17s    \n"
     ]
    }
   ],
   "source": [
    "predictions_test = np.argmax(model.predict_generator(test_generator, nb_test_samples/batch_size, workers=12, verbose=1),axis=1)"
   ]
  },
  {
   "cell_type": "code",
   "execution_count": 20,
   "metadata": {},
   "outputs": [
    {
     "name": "stdout",
     "output_type": "stream",
     "text": [
      "2091\n"
     ]
    }
   ],
   "source": [
    "print(len(predictions_test))"
   ]
  },
  {
   "cell_type": "code",
   "execution_count": 21,
   "metadata": {},
   "outputs": [
    {
     "data": {
      "text/plain": [
       "array([1, 6, 1, ..., 1, 1, 1])"
      ]
     },
     "execution_count": 21,
     "metadata": {},
     "output_type": "execute_result"
    }
   ],
   "source": [
    "predictions_test"
   ]
  },
  {
   "cell_type": "code",
   "execution_count": 22,
   "metadata": {},
   "outputs": [],
   "source": [
    "n_label_predict_test = test_generator.classes"
   ]
  },
  {
   "cell_type": "code",
   "execution_count": 23,
   "metadata": {
    "scrolled": false
   },
   "outputs": [
    {
     "name": "stderr",
     "output_type": "stream",
     "text": [
      "/home/tku/anaconda3/envs/py35/lib/python3.5/site-packages/pandas_ml/confusion_matrix/abstract.py:66: FutureWarning: \n",
      "Passing list-likes to .loc or [] with any missing label will raise\n",
      "KeyError in the future, you can use .reindex() as an alternative.\n",
      "\n",
      "See the documentation here:\n",
      "http://pandas.pydata.org/pandas-docs/stable/indexing.html#deprecate-loc-reindex-listlike\n",
      "  df = df.loc[idx, idx.copy()].fillna(0)  # if some columns or rows are missing\n"
     ]
    },
    {
     "data": {
      "text/plain": [
       "Predicted   0     1  2  3  4  5    6  7  8  9  __all__\n",
       "Actual                                                \n",
       "0           2   206  0  0  0  0   20  0  0  0      228\n",
       "1           4   190  0  0  0  0   13  0  0  0      207\n",
       "2           9   182  0  0  0  0   16  0  0  0      207\n",
       "3           3   195  0  0  0  0    9  0  0  0      207\n",
       "4           5   180  0  0  0  0   22  0  0  0      207\n",
       "5           5   190  0  0  0  0   12  0  0  0      207\n",
       "6           6   180  0  0  0  1   20  0  0  0      207\n",
       "7           4   187  0  0  0  0   16  0  0  0      207\n",
       "8           7   182  0  0  0  0   18  0  0  0      207\n",
       "9           6   192  0  0  0  0    9  0  0  0      207\n",
       "__all__    51  1884  0  0  0  1  155  0  0  0     2091"
      ]
     },
     "execution_count": 23,
     "metadata": {},
     "output_type": "execute_result"
    }
   ],
   "source": [
    "confusion_matrix = ConfusionMatrix(n_label_predict_test, predictions_test)\n",
    "confusion_matrix"
   ]
  },
  {
   "cell_type": "code",
   "execution_count": 24,
   "metadata": {},
   "outputs": [
    {
     "name": "stdout",
     "output_type": "stream",
     "text": [
      "             precision    recall  f1-score   support\n",
      "\n",
      "         R0       0.04      0.01      0.01       228\n",
      "         R1       0.10      0.92      0.18       207\n",
      "         R2       0.00      0.00      0.00       207\n",
      "         R3       0.00      0.00      0.00       207\n",
      "         R4       0.00      0.00      0.00       207\n",
      "         R5       0.00      0.00      0.00       207\n",
      "         R6       0.13      0.10      0.11       207\n",
      "         R7       0.00      0.00      0.00       207\n",
      "         R8       0.00      0.00      0.00       207\n",
      "         R9       0.00      0.00      0.00       207\n",
      "\n",
      "avg / total       0.03      0.10      0.03      2091\n",
      "\n"
     ]
    },
    {
     "name": "stderr",
     "output_type": "stream",
     "text": [
      "/home/tku/anaconda3/envs/py35/lib/python3.5/site-packages/sklearn/metrics/classification.py:1135: UndefinedMetricWarning: Precision and F-score are ill-defined and being set to 0.0 in labels with no predicted samples.\n",
      "  'precision', 'predicted', average, warn_for)\n"
     ]
    }
   ],
   "source": [
    "from sklearn.metrics import classification_report\n",
    "print(classification_report(n_label_predict_test,predictions_test, target_names=['R0', 'R1', 'R2', 'R3', 'R4', 'R5', 'R6', 'R7', 'R8','R9']))\n",
    "#ConfusionMatrix(labels_test, n_label_predict_test)"
   ]
  },
  {
   "cell_type": "code",
   "execution_count": 25,
   "metadata": {
    "scrolled": true
   },
   "outputs": [
    {
     "data": {
      "text/html": [
       "<div>\n",
       "<style scoped>\n",
       "    .dataframe tbody tr th:only-of-type {\n",
       "        vertical-align: middle;\n",
       "    }\n",
       "\n",
       "    .dataframe tbody tr th {\n",
       "        vertical-align: top;\n",
       "    }\n",
       "\n",
       "    .dataframe thead th {\n",
       "        text-align: right;\n",
       "    }\n",
       "</style>\n",
       "<table border=\"1\" class=\"dataframe\">\n",
       "  <thead>\n",
       "    <tr style=\"text-align: right;\">\n",
       "      <th></th>\n",
       "      <th>labels</th>\n",
       "      <th>predict</th>\n",
       "    </tr>\n",
       "  </thead>\n",
       "  <tbody>\n",
       "    <tr>\n",
       "      <th>labels</th>\n",
       "      <td>1.000000</td>\n",
       "      <td>-0.010468</td>\n",
       "    </tr>\n",
       "    <tr>\n",
       "      <th>predict</th>\n",
       "      <td>-0.010468</td>\n",
       "      <td>1.000000</td>\n",
       "    </tr>\n",
       "  </tbody>\n",
       "</table>\n",
       "</div>"
      ],
      "text/plain": [
       "           labels   predict\n",
       "labels   1.000000 -0.010468\n",
       "predict -0.010468  1.000000"
      ]
     },
     "execution_count": 25,
     "metadata": {},
     "output_type": "execute_result"
    }
   ],
   "source": [
    "df = pd.DataFrame({'predict':predictions_test,\n",
    "     'labels':n_label_predict_test})\n",
    "df.corr()"
   ]
  },
  {
   "cell_type": "code",
   "execution_count": null,
   "metadata": {},
   "outputs": [],
   "source": [
    "model.save('xxxxx.h5')"
   ]
  },
  {
   "cell_type": "markdown",
   "metadata": {},
   "source": [
    "#"
   ]
  },
  {
   "cell_type": "code",
   "execution_count": null,
   "metadata": {},
   "outputs": [],
   "source": []
  }
 ],
 "metadata": {
  "kernelspec": {
   "display_name": "Python [default]",
   "language": "python",
   "name": "python3"
  },
  "language_info": {
   "codemirror_mode": {
    "name": "ipython",
    "version": 3
   },
   "file_extension": ".py",
   "mimetype": "text/x-python",
   "name": "python",
   "nbconvert_exporter": "python",
   "pygments_lexer": "ipython3",
   "version": "3.5.4"
  }
 },
 "nbformat": 4,
 "nbformat_minor": 2
}
